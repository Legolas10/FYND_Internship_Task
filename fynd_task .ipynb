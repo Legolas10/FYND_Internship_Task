{
  "nbformat": 4,
  "nbformat_minor": 0,
  "metadata": {
    "colab": {
      "name": "fynd_task.ipynb",
      "version": "0.3.2",
      "provenance": [],
      "collapsed_sections": []
    },
    "kernelspec": {
      "name": "python3",
      "display_name": "Python 3"
    }
  },
  "cells": [
    {
      "metadata": {
        "id": "mvxhmG4vXKCz",
        "colab_type": "code",
        "colab": {}
      },
      "cell_type": "code",
      "source": [
        "from google.colab import drive"
      ],
      "execution_count": 0,
      "outputs": []
    },
    {
      "metadata": {
        "id": "mclDteo0XN0C",
        "colab_type": "code",
        "outputId": "f1722389-bf89-491a-ef16-726fc0cdfe31",
        "colab": {
          "base_uri": "https://localhost:8080/",
          "height": 34
        }
      },
      "cell_type": "code",
      "source": [
        "drive.mount('/content/drive',force_remount=True)"
      ],
      "execution_count": 0,
      "outputs": [
        {
          "output_type": "stream",
          "text": [
            "Mounted at /content/drive\n"
          ],
          "name": "stdout"
        }
      ]
    },
    {
      "metadata": {
        "id": "9jRoTY7IXSVg",
        "colab_type": "code",
        "outputId": "14123f58-bfc0-49fb-8bc9-58d6f9d67c98",
        "colab": {
          "base_uri": "https://localhost:8080/",
          "height": 34
        }
      },
      "cell_type": "code",
      "source": [
        "cd /content/drive/My Drive/Lego_Colab/Fynd_ML_Hackathon"
      ],
      "execution_count": 0,
      "outputs": [
        {
          "output_type": "stream",
          "text": [
            "/content/drive/My Drive/Lego_Colab/Fynd_ML_Hackathon\n"
          ],
          "name": "stdout"
        }
      ]
    },
    {
      "metadata": {
        "id": "tspP4d8HXejS",
        "colab_type": "code",
        "colab": {}
      },
      "cell_type": "code",
      "source": [
        "import os\n",
        "os.makedirs(\"dataset1/train/\", exist_ok=True)\n",
        "os.makedirs(\"dataset1/test/\", exist_ok=True)\n"
      ],
      "execution_count": 0,
      "outputs": []
    },
    {
      "metadata": {
        "id": "7XfK5OtNXtY_",
        "colab_type": "code",
        "colab": {}
      },
      "cell_type": "code",
      "source": [
        "import pandas as pd\n",
        "import numpy as np\n",
        "import seaborn as sns\n",
        "import os\n",
        "\n",
        "data=pd.read_csv('data.csv')\n",
        "x_train=pd.read_csv('train_features.csv')\n",
        "x_test=pd.read_csv('test_features.csv')\n",
        "#data is ready...pass it onto pre-tr mlp\n",
        "x_tr=x_train\n",
        "x_te=x_test\n",
        "\n",
        "\n",
        "classes=list(data['class'].unique())"
      ],
      "execution_count": 0,
      "outputs": []
    },
    {
      "metadata": {
        "id": "-OxRcG1BYKc5",
        "colab_type": "code",
        "outputId": "324f8a77-db63-4ba9-83a3-95604f67ae75",
        "colab": {
          "base_uri": "https://localhost:8080/",
          "height": 153
        }
      },
      "cell_type": "code",
      "source": [
        "\n",
        "#MISSING VALUES:\n",
        "data.isnull().sum()\n",
        "\n",
        "d=data\n",
        "\n",
        "data=data.astype(str)\n",
        "data.dtypes"
      ],
      "execution_count": 0,
      "outputs": [
        {
          "output_type": "execute_result",
          "data": {
            "text/plain": [
              "id        object\n",
              "view_1    object\n",
              "view_2    object\n",
              "view_3    object\n",
              "view_4    object\n",
              "view_5    object\n",
              "class     object\n",
              "dtype: object"
            ]
          },
          "metadata": {
            "tags": []
          },
          "execution_count": 3
        }
      ]
    },
    {
      "metadata": {
        "id": "_tVJ0aSpYPWk",
        "colab_type": "code",
        "outputId": "d24b842c-de72-44bc-b97b-69fc7c069c9c",
        "colab": {
          "base_uri": "https://localhost:8080/",
          "height": 301
        }
      },
      "cell_type": "code",
      "source": [
        "y=data['class'].copy()\n",
        "y.value_counts()\n",
        "sns.countplot(y)"
      ],
      "execution_count": 0,
      "outputs": [
        {
          "output_type": "execute_result",
          "data": {
            "text/plain": [
              "<matplotlib.axes._subplots.AxesSubplot at 0x7f7becea2438>"
            ]
          },
          "metadata": {
            "tags": []
          },
          "execution_count": 4
        },
        {
          "output_type": "display_data",
          "data": {
            "image/png": "[encoded data removed]",
            "text/plain": [
              "<Figure size 432x288 with 1 Axes>"
            ]
          },
          "metadata": {
            "tags": []
          }
        }
      ]
    },
    {
      "metadata": {
        "id": "8h_cWfcyYUsM",
        "colab_type": "code",
        "colab": {}
      },
      "cell_type": "code",
      "source": [
        "\n",
        "all_nan_url=[]\n",
        "for i in range(0,data.shape[0]):\n",
        "    urls=list(data.iloc[i])\n",
        "    count=0\n",
        "    for j in range(1,len(urls)):\n",
        "        if(urls[j]==\"nan\"):\n",
        "            all_nan_url.append(i)\n",
        "#FORTUNATELY THERE IS NO DATA WITH ALL NAN VALUES..\n",
        "print(all_nan_url)\n",
        "\n",
        "#so i fill the nan values with any other available view url\n",
        "for i in range(data.shape[0]):\n",
        "    urls=list(data.iloc[i])\n",
        "    for j in range(1,6):\n",
        "        if(urls[j]!=\"nan\"):\n",
        "            curr_url=urls[j]\n",
        "        elif(urls[j]==\"nan\"):\n",
        "            urls[j]=curr_url\n",
        "    data.iloc[i]=urls        \n",
        "\n",
        "data.isnull().sum()\n",
        "#no missing data\n",
        "\n",
        "y=data['class'].copy()\n",
        "y.value_counts()\n",
        "sns.countplot(y)\n",
        "#DATA IS NOT SO IMBALANCED....so assuming that data is not imbalanced\n",
        "\n",
        "import urllib.request as urlr  \n",
        "\n",
        "\n",
        "cl1_len=list(data[data['class']=='zipper'].index-100)\n",
        "cl2_len=list(data[data['class']=='backstrap'].index-100)\n",
        "cl3_len=list(data[data['class']=='slip_on'].index-100)\n",
        "cl4_len=list(data[data['class']=='lace_up'].index-100)\n",
        "cl5_len=list(data[data['class']=='buckle'].index-100)\n",
        "cl6_len=list(data[data['class']=='hook&look'].index-100)\n",
        "\n",
        "for i in cl1_len:\n",
        "    ur=list(data.iloc[i])\n",
        "    tar=ur[-1]\n",
        "    ur=ur[1:-1]\n",
        "    count=0\n",
        "    for j in ur:\n",
        "        count+=1\n",
        "        img_name=j.split(\"/\",6)[-1]+\"_\"+j.split(\"/\",6)[-2]\n",
        "        file_name=tar\n",
        "        fin=\"train/\"+file_name+\"/\"+img_name+str(count)\n",
        "        img=urlr.urlretrieve(j,fin)\n",
        "    \n",
        "\n",
        "for i in cl2_len:\n",
        "    ur=list(data.iloc[i])\n",
        "    tar=ur[-1]\n",
        "    ur=ur[1:-1]\n",
        "    count=0\n",
        "    for j in ur:\n",
        "        count+=1\n",
        "        img_name=j.split(\"/\",6)[-1]+\"_\"+j.split(\"/\",6)[-2]\n",
        "        file_name=tar\n",
        "        fin=\"train/\"+file_name+\"/\"+img_name+str(count)\n",
        "        img=urlr.urlretrieve(j,fin)\n",
        "    \n",
        "\n",
        "for i in cl3_len:\n",
        "    ur=list(data.iloc[i])\n",
        "    tar=ur[-1]\n",
        "    ur=ur[1:-1]\n",
        "    count=0\n",
        "    for j in ur:\n",
        "        count+=1\n",
        "        img_name=j.split(\"/\",6)[-1]+\"_\"+j.split(\"/\",6)[-2]\n",
        "        file_name=tar\n",
        "        fin=\"train/\"+file_name+\"/\"+img_name+str(count)\n",
        "        img=urlr.urlretrieve(j,fin)\n",
        "    \n",
        "\n",
        "for i in cl4_len:\n",
        "    ur=list(data.iloc[i])\n",
        "    tar=ur[-1]\n",
        "    ur=ur[1:-1]\n",
        "    count=0\n",
        "    for j in ur:\n",
        "        count+=1\n",
        "        img_name=j.split(\"/\",6)[-1]+\"_\"+j.split(\"/\",6)[-2]\n",
        "        file_name=tar\n",
        "        fin=\"train/\"+file_name+\"/\"+img_name+str(count)\n",
        "        img=urlr.urlretrieve(j,fin)\n",
        "    \n",
        "\n",
        "for i in cl5_len:\n",
        "    ur=list(data.iloc[i])\n",
        "    tar=ur[-1]\n",
        "    ur=ur[1:-1]\n",
        "    count=0\n",
        "    for j in ur:\n",
        "        count+=1\n",
        "        img_name=j.split(\"/\",6)[-1]+\"_\"+j.split(\"/\",6)[-2]\n",
        "        file_name=tar\n",
        "        fin=\"train/\"+file_name+\"/\"+img_name+str(count)\n",
        "        img=urlr.urlretrieve(j,fin)\n",
        "    \n",
        "\n",
        "for i in cl6_len:\n",
        "    ur=list(data.iloc[i])\n",
        "    tar=ur[-1]\n",
        "    ur=ur[1:-1]\n",
        "    count=0\n",
        "    for j in ur:\n",
        "        count+=1\n",
        "        img_name=j.split(\"/\",6)[-1]+\"_\"+j.split(\"/\",6)[-2]\n",
        "        file_name=tar\n",
        "        fin=\"train/\"+file_name+\"/\"+img_name+str(count)\n",
        "        img=urlr.urlretrieve(j,fin)\n",
        "                    \n",
        "#250 images in total\n",
        "\n",
        "#create train and test data        \n",
        "#25 % test and 70 % train        \n",
        "\n",
        "#SPLITIING LAST 20 ITEMS FOR TEST DATA..\n",
        "for i in range(480,500):\n",
        "    ur=list(data.iloc[i])\n",
        "    tar=ur[-1]\n",
        "    ur=ur[1:-1]\n",
        "    count=0\n",
        "    for j in ur:\n",
        "        count+=1\n",
        "        img_name=j.split(\"/\",6)[-1]+\"_\"+j.split(\"/\",6)[-2]\n",
        "        file_name=tar\n",
        "        fin=\"test/\"+file_name+\"/\"+img_name+str(count)\n",
        "        img=urlr.urlretrieve(j,fin)\n",
        "                    \n",
        "        \n",
        "\n",
        "for i in range(1240,1260):\n",
        "    ur=list(data.iloc[i])\n",
        "    tar=ur[-1]\n",
        "    ur=ur[1:-1]\n",
        "    count=0\n",
        "    for j in ur:\n",
        "        count+=1\n",
        "        img_name=j.split(\"/\",6)[-1]+\"_\"+j.split(\"/\",6)[-2]\n",
        "        file_name=tar\n",
        "        fin=\"test/\"+file_name+\"/\"+img_name+str(count)\n",
        "        img=urlr.urlretrieve(j,fin)\n",
        "                           \n",
        "len_total=data.shape[0]/3\n",
        "\n",
        "for i in range(815,835):\n",
        "    ur=list(data.iloc[i])\n",
        "    tar=ur[-1]\n",
        "    ur=ur[1:-1]\n",
        "    count=0\n",
        "    for j in ur:\n",
        "        count+=1\n",
        "        img_name=j.split(\"/\",6)[-1]+\"_\"+j.split(\"/\",6)[-2]\n",
        "        file_name=tar\n",
        "        fin=\"test/\"+file_name+\"/\"+img_name+str(count)\n",
        "        img=urlr.urlretrieve(j,fin)\n",
        "                   \n",
        "\n",
        "\n",
        "for i in range(1692,1712):\n",
        "    ur=list(data.iloc[i])\n",
        "    tar=ur[-1]\n",
        "    ur=ur[1:-1]\n",
        "    count=0\n",
        "    for j in ur:\n",
        "        count+=1\n",
        "        img_name=j.split(\"/\",6)[-1]+\"_\"+j.split(\"/\",6)[-2]\n",
        "        file_name=tar\n",
        "        fin=\"test/\"+file_name+\"/\"+img_name+str(count)\n",
        "        img=urlr.urlretrieve(j,fin)\n",
        "                   \n",
        "\n",
        "\n",
        "for i in range(1832,1852):\n",
        "    ur=list(data.iloc[i])\n",
        "    tar=ur[-1]\n",
        "    ur=ur[1:-1]\n",
        "    count=0\n",
        "    for j in ur:\n",
        "        count+=1\n",
        "        img_name=j.split(\"/\",6)[-1]+\"_\"+j.split(\"/\",6)[-2]\n",
        "        file_name=tar\n",
        "        fin=\"test/\"+file_name+\"/\"+img_name+str(count)\n",
        "        img=urlr.urlretrieve(j,fin)\n",
        "                          \n",
        "        \n",
        "\n",
        "for i in range(2136,2156):\n",
        "    ur=list(data.iloc[i])\n",
        "    tar=ur[-1]\n",
        "    ur=ur[1:-1]\n",
        "    count=0\n",
        "    for j in ur:\n",
        "        count+=1\n",
        "        img_name=j.split(\"/\",6)[-1]+\"_\"+j.split(\"/\",6)[-2]\n",
        "        file_name=tar\n",
        "        fin=\"test/\"+file_name+\"/\"+img_name+str(count)\n",
        "        img=urlr.urlretrieve(j,fin)\n",
        "\n",
        "#ALREADY RAN AND STORED IN LOCAL FOLDER...AFTER SCRAPING ALL URL'S FOR DATA        \n",
        "        "
      ],
      "execution_count": 0,
      "outputs": []
    },
    {
      "metadata": {
        "id": "72puZ4X5YXSD",
        "colab_type": "code",
        "outputId": "b7d86615-0738-486a-f43e-bfd8c91dc668",
        "colab": {
          "base_uri": "https://localhost:8080/",
          "height": 34
        }
      },
      "cell_type": "code",
      "source": [
        "#NOW THAT THE DATA IS READY...WE DEPLOY A CNN....OR USE AN AUTOENCODER....\n",
        "import keras\n",
        "from keras.models import Sequential\n",
        "from keras.layers import Dense,Conv2D,MaxPooling2D\n",
        "import keras.regularizers\n",
        "from keras import regularizers\n",
        "from keras.layers import Flatten,Dropout\n"
      ],
      "execution_count": 0,
      "outputs": [
        {
          "output_type": "stream",
          "text": [
            "Using TensorFlow backend.\n"
          ],
          "name": "stderr"
        }
      ]
    },
    {
      "metadata": {
        "id": "em3r5xlMYXf8",
        "colab_type": "code",
        "colab": {}
      },
      "cell_type": "code",
      "source": [
        "#METHOD 3: USE TRANSFER LEARNING..\n",
        "\n",
        "from keras.preprocessing import image\n",
        "from keras.applications.vgg16 import preprocess_input,decode_predictions\n",
        "from keras.applications.vgg16 import VGG16\n",
        "train_path=\"dataset/train\"\n",
        "test_path=\"dataset/test\"\n",
        "\n",
        "from scipy.misc import imresize\n",
        "\n",
        "x_train=[]\n",
        "y_train=[]\n",
        "for j in range(1,286):\n",
        "    ti=image.load_img(train_path+\"/zipper/\"+\"file-\"+str(j)+\".jpg\",target_size=(224,224))\n",
        "    ti=image.img_to_array(ti)\n",
        "    x_train.append(ti)\n",
        "    y_train.append('zipper')\n",
        "    \n",
        "for j in range(1,251):\n",
        "    ti=image.load_img(train_path+\"/backstrap/\"+\"image-\"+str(j)+\".jpg\",target_size=(224,224))\n",
        "    ti=image.img_to_array(ti)\n",
        "    x_train.append(ti)\n",
        "    y_train.append('backstrap')\n",
        "    \n",
        "for j in range(1,251):\n",
        "    ti=image.load_img(train_path+\"/slip_on/\"+\"image-\"+str(j)+\".jpg\",target_size=(224,224))\n",
        "    ti=image.img_to_array(ti)\n",
        "    x_train.append(ti)\n",
        "    y_train.append('slip_on')\n",
        "\n",
        "for j in range(1,251):\n",
        "    ti=image.load_img(train_path+\"/lace_up/\"+\"image-\"+str(j)+\".jpg\",target_size=(224,224))\n",
        "    ti=image.img_to_array(ti)\n",
        "    x_train.append(ti)\n",
        "    y_train.append('lace_up')\n",
        "    \n",
        "for j in range(1,251):\n",
        "    ti=image.load_img(train_path+\"/buckle/\"+\"image-\"+str(j)+\".jpg\",target_size=(224,224))\n",
        "    ti=image.img_to_array(ti)\n",
        "    x_train.append(ti)\n",
        "    y_train.append('buckle')\n",
        "\n",
        "for j in range(1,251):\n",
        "    ti=image.load_img(train_path+\"/hook&look/\"+\"image-\"+str(j)+\".jpg\",target_size=(224,224))\n",
        "    ti=image.img_to_array(ti)\n",
        "    x_train.append(ti)\n",
        "    y_train.append('hook&look')\n",
        "\n",
        "x_test=[]\n",
        "y_test=[]            \n",
        "\n",
        "for j in range(1,101):\n",
        "    ti=image.load_img(test_path+\"/zipper/\"+\"image-\"+str(j)+\".jpg\",target_size=(224,224))\n",
        "    ti=image.img_to_array(ti)\n",
        "    x_test.append(ti)\n",
        "    y_test.append('zipper')\n",
        "\n",
        "for j in range(1,101):\n",
        "    ti=image.load_img(test_path+\"/backstrap/\"+\"image-\"+str(j)+\".jpg\",target_size=(224,224))\n",
        "    ti=image.img_to_array(ti)\n",
        "    x_test.append(ti)\n",
        "    y_test.append('backstrap')\n",
        "\n",
        "           \n",
        "for j in range(1,101):\n",
        "    ti=image.load_img(test_path+\"/slip_on/\"+\"image-\"+str(j)+\".jpg\",target_size=(224,224))\n",
        "    ti=image.img_to_array(ti)\n",
        "    x_test.append(ti)\n",
        "    y_test.append('slip_on')\n",
        "    \n",
        "for j in range(1,101):\n",
        "    ti=image.load_img(test_path+\"/lace_up/\"+\"image-\"+str(j)+\".jpg\",target_size=(224,224))\n",
        "    ti=image.img_to_array(ti)\n",
        "    x_test.append(ti)\n",
        "    y_test.append('lace_up')\n",
        "\n",
        "\n",
        "for j in range(1,101):\n",
        "    ti=image.load_img(test_path+\"/buckle/\"+\"image-\"+str(j)+\".jpg\",target_size=(224,224))\n",
        "    ti=image.img_to_array(ti)\n",
        "    x_test.append(ti)\n",
        "    y_test.append('buckle')\n",
        "\n",
        "\n",
        "for j in range(1,101):\n",
        "    ti=image.load_img(test_path+\"/hook&look/\"+\"image-\"+str(j)+\".jpg\",target_size=(224,224))\n",
        "    ti=image.img_to_array(ti)\n",
        "    x_test.append(ti)\n",
        "    y_test.append('hook&look')\n",
        "\n",
        "#2nd time...data augmentation\n",
        "#METHOD 3: USE TRANSFER LEARNING..\n",
        "\n",
        "from keras.preprocessing import image\n",
        "from keras.applications.vgg16 import preprocess_input,decode_predictions\n",
        "from keras.applications.vgg16 import VGG16\n",
        "train_path=\"dataset/train\"\n",
        "test_path=\"dataset/test\"\n",
        "\n",
        "from scipy.misc import imresize\n",
        "\n",
        "for j in range(1,286):\n",
        "    ti=image.load_img(train_path+\"/zipper/\"+\"file-\"+str(j)+\".jpg\",target_size=(224,224))\n",
        "    ti=image.img_to_array(ti)\n",
        "    x_train.append(ti)\n",
        "    y_train.append('zipper')\n",
        "    \n",
        "for j in range(1,251):\n",
        "    ti=image.load_img(train_path+\"/backstrap/\"+\"image-\"+str(j)+\".jpg\",target_size=(224,224))\n",
        "    ti=image.img_to_array(ti)\n",
        "    x_train.append(ti)\n",
        "    y_train.append('backstrap')\n",
        "    \n",
        "for j in range(1,251):\n",
        "    ti=image.load_img(train_path+\"/slip_on/\"+\"image-\"+str(j)+\".jpg\",target_size=(224,224))\n",
        "    ti=image.img_to_array(ti)\n",
        "    x_train.append(ti)\n",
        "    y_train.append('slip_on')\n",
        "\n",
        "for j in range(1,251):\n",
        "    ti=image.load_img(train_path+\"/lace_up/\"+\"image-\"+str(j)+\".jpg\",target_size=(224,224))\n",
        "    ti=image.img_to_array(ti)\n",
        "    x_train.append(ti)\n",
        "    y_train.append('lace_up')\n",
        "    \n",
        "for j in range(1,251):\n",
        "    ti=image.load_img(train_path+\"/buckle/\"+\"image-\"+str(j)+\".jpg\",target_size=(224,224))\n",
        "    ti=image.img_to_array(ti)\n",
        "    x_train.append(ti)\n",
        "    y_train.append('buckle')\n",
        "\n",
        "for j in range(1,251):\n",
        "    ti=image.load_img(train_path+\"/hook&look/\"+\"image-\"+str(j)+\".jpg\",target_size=(224,224))\n",
        "    ti=image.img_to_array(ti)\n",
        "    x_train.append(ti)\n",
        "    y_train.append('hook&look')\n",
        "\n",
        "for j in range(1,101):\n",
        "    ti=image.load_img(test_path+\"/zipper/\"+\"image-\"+str(j)+\".jpg\",target_size=(224,224))\n",
        "    ti=image.img_to_array(ti)\n",
        "    x_test.append(ti)\n",
        "    y_test.append('zipper')\n",
        "\n",
        "for j in range(1,101):\n",
        "    ti=image.load_img(test_path+\"/backstrap/\"+\"image-\"+str(j)+\".jpg\",target_size=(224,224))\n",
        "    ti=image.img_to_array(ti)\n",
        "    x_test.append(ti)\n",
        "    y_test.append('backstrap')\n",
        "\n",
        "           \n",
        "for j in range(1,101):\n",
        "    ti=image.load_img(test_path+\"/slip_on/\"+\"image-\"+str(j)+\".jpg\",target_size=(224,224))\n",
        "    ti=image.img_to_array(ti)\n",
        "    x_test.append(ti)\n",
        "    y_test.append('slip_on')\n",
        "    \n",
        "for j in range(1,101):\n",
        "    ti=image.load_img(test_path+\"/lace_up/\"+\"image-\"+str(j)+\".jpg\",target_size=(224,224))\n",
        "    ti=image.img_to_array(ti)\n",
        "    x_test.append(ti)\n",
        "    y_test.append('lace_up')\n",
        "\n",
        "\n",
        "for j in range(1,101):\n",
        "    ti=image.load_img(test_path+\"/buckle/\"+\"image-\"+str(j)+\".jpg\",target_size=(224,224))\n",
        "    ti=image.img_to_array(ti)\n",
        "    x_test.append(ti)\n",
        "    y_test.append('buckle')\n",
        "\n",
        "\n",
        "for j in range(1,101):\n",
        "    ti=image.load_img(test_path+\"/hook&look/\"+\"image-\"+str(j)+\".jpg\",target_size=(224,224))\n",
        "    ti=image.img_to_array(ti)\n",
        "    x_test.append(ti)\n",
        "    y_test.append('hook&look')\n",
        "\n",
        "    \n",
        "for j in range(1,286):\n",
        "    ti=image.load_img(train_path+\"/zipper/\"+\"file-\"+str(j)+\".jpg\",target_size=(224,224))\n",
        "    ti=image.img_to_array(ti)\n",
        "    x_train.append(ti)\n",
        "    y_train.append('zipper')\n",
        "    \n",
        "for j in range(1,251):\n",
        "    ti=image.load_img(train_path+\"/backstrap/\"+\"image-\"+str(j)+\".jpg\",target_size=(224,224))\n",
        "    ti=image.img_to_array(ti)\n",
        "    x_train.append(ti)\n",
        "    y_train.append('backstrap')\n",
        "    \n",
        "for j in range(1,251):\n",
        "    ti=image.load_img(train_path+\"/slip_on/\"+\"image-\"+str(j)+\".jpg\",target_size=(224,224))\n",
        "    ti=image.img_to_array(ti)\n",
        "    x_train.append(ti)\n",
        "    y_train.append('slip_on')\n",
        "\n",
        "for j in range(1,251):\n",
        "    ti=image.load_img(train_path+\"/lace_up/\"+\"image-\"+str(j)+\".jpg\",target_size=(224,224))\n",
        "    ti=image.img_to_array(ti)\n",
        "    x_train.append(ti)\n",
        "    y_train.append('lace_up')\n",
        "    \n",
        "for j in range(1,251):\n",
        "    ti=image.load_img(train_path+\"/buckle/\"+\"image-\"+str(j)+\".jpg\",target_size=(224,224))\n",
        "    ti=image.img_to_array(ti)\n",
        "    x_train.append(ti)\n",
        "    y_train.append('buckle')\n",
        "\n",
        "for j in range(1,251):\n",
        "    ti=image.load_img(train_path+\"/hook&look/\"+\"image-\"+str(j)+\".jpg\",target_size=(224,224))\n",
        "    ti=image.img_to_array(ti)\n",
        "    x_train.append(ti)\n",
        "    y_train.append('hook&look')\n",
        "\n",
        "for j in range(1,101):\n",
        "    ti=image.load_img(test_path+\"/zipper/\"+\"image-\"+str(j)+\".jpg\",target_size=(224,224))\n",
        "    ti=image.img_to_array(ti)\n",
        "    x_test.append(ti)\n",
        "    y_test.append('zipper')\n",
        "\n",
        "for j in range(1,101):\n",
        "    ti=image.load_img(test_path+\"/backstrap/\"+\"image-\"+str(j)+\".jpg\",target_size=(224,224))\n",
        "    ti=image.img_to_array(ti)\n",
        "    x_test.append(ti)\n",
        "    y_test.append('backstrap')\n",
        "\n",
        "           \n",
        "for j in range(1,101):\n",
        "    ti=image.load_img(test_path+\"/slip_on/\"+\"image-\"+str(j)+\".jpg\",target_size=(224,224))\n",
        "    ti=image.img_to_array(ti)\n",
        "    x_test.append(ti)\n",
        "    y_test.append('slip_on')\n",
        "    \n",
        "for j in range(1,101):\n",
        "    ti=image.load_img(test_path+\"/lace_up/\"+\"image-\"+str(j)+\".jpg\",target_size=(224,224))\n",
        "    ti=image.img_to_array(ti)\n",
        "    x_test.append(ti)\n",
        "    y_test.append('lace_up')\n",
        "\n",
        "\n",
        "for j in range(1,101):\n",
        "    ti=image.load_img(test_path+\"/buckle/\"+\"image-\"+str(j)+\".jpg\",target_size=(224,224))\n",
        "    ti=image.img_to_array(ti)\n",
        "    x_test.append(ti)\n",
        "    y_test.append('buckle')\n",
        "\n",
        "\n",
        "for j in range(1,101):\n",
        "    ti=image.load_img(test_path+\"/hook&look/\"+\"image-\"+str(j)+\".jpg\",target_size=(224,224))\n",
        "    ti=image.img_to_array(ti)\n",
        "    x_test.append(ti)\n",
        "    y_test.append('hook&look')\n",
        "        \n",
        "    "
      ],
      "execution_count": 0,
      "outputs": []
    },
    {
      "metadata": {
        "id": "yRxD1K64YXmX",
        "colab_type": "code",
        "outputId": "3b1d48c1-0b42-4131-9dfc-0c6604d3a6ed",
        "colab": {
          "base_uri": "https://localhost:8080/",
          "height": 34
        }
      },
      "cell_type": "code",
      "source": [
        "import numpy as np\n",
        "x_train=np.array(x_train)\n",
        "y_train=np.array(y_train)\n",
        "x_test=np.array(x_test)\n",
        "y_test=np.array(y_test)\n",
        "\n",
        "x_train=preprocess_input(x_train)\n",
        "x_test= preprocess_input(x_test)\n",
        "\n",
        "x_train.shape\n",
        "x_test.shape\n"
      ],
      "execution_count": 0,
      "outputs": [
        {
          "output_type": "execute_result",
          "data": {
            "text/plain": [
              "(1800, 25088)"
            ]
          },
          "metadata": {
            "tags": []
          },
          "execution_count": 14
        }
      ]
    },
    {
      "metadata": {
        "id": "2uGjMzbLcF6h",
        "colab_type": "code",
        "colab": {}
      },
      "cell_type": "code",
      "source": [
        "#now extract features from train dataset using the vgg per-trained model\n",
        "model = VGG16(weights='imagenet', include_top=False)\n",
        "\n",
        "features_train=model.predict(x_train)"
      ],
      "execution_count": 0,
      "outputs": []
    },
    {
      "metadata": {
        "id": "iyFdw0fycsTg",
        "colab_type": "code",
        "colab": {}
      },
      "cell_type": "code",
      "source": [
        "features_test=model.predict(x_test)"
      ],
      "execution_count": 0,
      "outputs": []
    },
    {
      "metadata": {
        "id": "cua8ay9eiTCd",
        "colab_type": "code",
        "colab": {}
      },
      "cell_type": "code",
      "source": [
        "train_x=features_train.reshape(features_train.shape[0],25088)\n",
        "test_x=features_test.reshape(features_test.shape[0],(features_test.shape[1]*features_test.shape[2]*features_test.shape[3]))\n",
        "fttt=test_x\n",
        "fttr=train_x"
      ],
      "execution_count": 0,
      "outputs": []
    },
    {
      "metadata": {
        "id": "4U5XDSu6iXb3",
        "colab_type": "code",
        "colab": {}
      },
      "cell_type": "code",
      "source": [
        "train_features=pd.DataFrame(fttr)\n",
        "test_features=pd.DataFrame(fttt)\n",
        "train_features.to_csv('train_features.csv',index=False)\n",
        "test_features.to_csv('test_features.csv',index=False)\n"
      ],
      "execution_count": 0,
      "outputs": []
    },
    {
      "metadata": {
        "id": "rIiQkrIDwJbS",
        "colab_type": "code",
        "colab": {}
      },
      "cell_type": "code",
      "source": [
        "#data is ready...pass it onto pre-tr mlp\n",
        "# x_tr=x_train\n",
        "# x_te=x_test\n",
        "x_train=x_tr\n",
        "x_test=x_te"
      ],
      "execution_count": 0,
      "outputs": []
    },
    {
      "metadata": {
        "id": "q-hshrBHyauN",
        "colab_type": "code",
        "colab": {}
      },
      "cell_type": "code",
      "source": [
        "x_train=train_x\n",
        "x_test=test_x"
      ],
      "execution_count": 0,
      "outputs": []
    },
    {
      "metadata": {
        "id": "mVlinNfRygQe",
        "colab_type": "code",
        "colab": {}
      },
      "cell_type": "code",
      "source": [
        "y_train=pd.get_dummies(y_train)"
      ],
      "execution_count": 0,
      "outputs": []
    },
    {
      "metadata": {
        "id": "zZMx44jLykVo",
        "colab_type": "code",
        "outputId": "bfe9b8f6-56c2-4849-8573-836b2c4f04be",
        "colab": {
          "base_uri": "https://localhost:8080/",
          "height": 204
        }
      },
      "cell_type": "code",
      "source": [
        "y_test=pd.get_dummies(y_test)\n",
        "y_test[0:5]"
      ],
      "execution_count": 0,
      "outputs": [
        {
          "output_type": "execute_result",
          "data": {
            "text/html": [
              "<div>\n",
              "<style scoped>\n",
              "    .dataframe tbody tr th:only-of-type {\n",
              "        vertical-align: middle;\n",
              "    }\n",
              "\n",
              "    .dataframe tbody tr th {\n",
              "        vertical-align: top;\n",
              "    }\n",
              "\n",
              "    .dataframe thead th {\n",
              "        text-align: right;\n",
              "    }\n",
              "</style>\n",
              "<table border=\"1\" class=\"dataframe\">\n",
              "  <thead>\n",
              "    <tr style=\"text-align: right;\">\n",
              "      <th></th>\n",
              "      <th>backstrap</th>\n",
              "      <th>buckle</th>\n",
              "      <th>hook_look</th>\n",
              "      <th>lace_up</th>\n",
              "      <th>slip_on</th>\n",
              "      <th>zipper</th>\n",
              "    </tr>\n",
              "  </thead>\n",
              "  <tbody>\n",
              "    <tr>\n",
              "      <th>0</th>\n",
              "      <td>0</td>\n",
              "      <td>0</td>\n",
              "      <td>0</td>\n",
              "      <td>0</td>\n",
              "      <td>0</td>\n",
              "      <td>1</td>\n",
              "    </tr>\n",
              "    <tr>\n",
              "      <th>1</th>\n",
              "      <td>0</td>\n",
              "      <td>0</td>\n",
              "      <td>0</td>\n",
              "      <td>0</td>\n",
              "      <td>0</td>\n",
              "      <td>1</td>\n",
              "    </tr>\n",
              "    <tr>\n",
              "      <th>2</th>\n",
              "      <td>0</td>\n",
              "      <td>0</td>\n",
              "      <td>0</td>\n",
              "      <td>0</td>\n",
              "      <td>0</td>\n",
              "      <td>1</td>\n",
              "    </tr>\n",
              "    <tr>\n",
              "      <th>3</th>\n",
              "      <td>0</td>\n",
              "      <td>0</td>\n",
              "      <td>0</td>\n",
              "      <td>0</td>\n",
              "      <td>0</td>\n",
              "      <td>1</td>\n",
              "    </tr>\n",
              "    <tr>\n",
              "      <th>4</th>\n",
              "      <td>0</td>\n",
              "      <td>0</td>\n",
              "      <td>0</td>\n",
              "      <td>0</td>\n",
              "      <td>0</td>\n",
              "      <td>1</td>\n",
              "    </tr>\n",
              "  </tbody>\n",
              "</table>\n",
              "</div>"
            ],
            "text/plain": [
              "   backstrap  buckle  hook_look  lace_up  slip_on  zipper\n",
              "0          0       0          0        0        0       1\n",
              "1          0       0          0        0        0       1\n",
              "2          0       0          0        0        0       1\n",
              "3          0       0          0        0        0       1\n",
              "4          0       0          0        0        0       1"
            ]
          },
          "metadata": {
            "tags": []
          },
          "execution_count": 16
        }
      ]
    },
    {
      "metadata": {
        "id": "D-bLADyxy0EI",
        "colab_type": "code",
        "outputId": "9db3dfd3-6d8b-4188-f520-d6416b235c4f",
        "colab": {
          "base_uri": "https://localhost:8080/",
          "height": 34
        }
      },
      "cell_type": "code",
      "source": [
        "# from sklearn.utils import shuffle\n",
        "# x_train, y_train=shuffle(x_train,y_train)\n",
        "# x_test,y_test=shuffle(x_test,y_test)\n",
        "x_train.shape\n",
        "x_test.shape"
      ],
      "execution_count": 0,
      "outputs": [
        {
          "output_type": "execute_result",
          "data": {
            "text/plain": [
              "(1800, 25088)"
            ]
          },
          "metadata": {
            "tags": []
          },
          "execution_count": 8
        }
      ]
    },
    {
      "metadata": {
        "id": "CFpOgGojzH2e",
        "colab_type": "code",
        "outputId": "8dc405e9-4965-41a5-e457-6afd90f73060",
        "colab": {
          "base_uri": "https://localhost:8080/",
          "height": 71
        }
      },
      "cell_type": "code",
      "source": [
        "#create the mlp...cnn already trained..\n",
        "from keras.layers import Dropout\n",
        "from keras import regularizers\n",
        "model=Sequential()\n",
        "model.add(Dense(2000,input_dim=25088,activation='relu',kernel_initializer='uniform'))\n",
        "model.add(Dropout(0.1))\n",
        "model.add(Dense(2000,activation='relu'))\n",
        "model.add(Dropout(0.1))\n",
        "model.add(Dense(1000,activation='relu'))\n",
        "model.add(Dropout(0.1))\n",
        "#,activity_regularizer=regularizers.l1(0.01)\n",
        "model.add(Dense(500,activation='relu'))\n",
        "model.add(Dense(500,activation='relu'))\n",
        "model.add(Dense(output_dim=6,activation='softmax'))\n",
        "\n",
        "\n",
        "from keras.optimizers import SGD\n",
        "sgd= SGD(lr=0.001)\n",
        "model.compile(optimizer=sgd,loss='categorical_crossentropy',metrics=['accuracy'])\n",
        "\n"
      ],
      "execution_count": 0,
      "outputs": [
        {
          "output_type": "stream",
          "text": [
            "/usr/local/lib/python3.6/dist-packages/ipykernel_launcher.py:13: UserWarning: Update your `Dense` call to the Keras 2 API: `Dense(activation=\"softmax\", units=6)`\n",
            "  del sys.path[0]\n"
          ],
          "name": "stderr"
        }
      ]
    },
    {
      "metadata": {
        "id": "k0eDSe3HzJoS",
        "colab_type": "code",
        "outputId": "bce22c77-a2fc-4f6a-eec1-3485c669348e",
        "colab": {
          "base_uri": "https://localhost:8080/",
          "height": 442
        }
      },
      "cell_type": "code",
      "source": [
        "#fitting model....\n",
        "model.summary()\n",
        "model.save_weights(\"model_first.h5\")\n"
      ],
      "execution_count": 0,
      "outputs": [
        {
          "output_type": "stream",
          "text": [
            "_________________________________________________________________\n",
            "Layer (type)                 Output Shape              Param #   \n",
            "=================================================================\n",
            "dense_7 (Dense)              (None, 2000)              50178000  \n",
            "_________________________________________________________________\n",
            "dropout_4 (Dropout)          (None, 2000)              0         \n",
            "_________________________________________________________________\n",
            "dense_8 (Dense)              (None, 2000)              4002000   \n",
            "_________________________________________________________________\n",
            "dropout_5 (Dropout)          (None, 2000)              0         \n",
            "_________________________________________________________________\n",
            "dense_9 (Dense)              (None, 1000)              2001000   \n",
            "_________________________________________________________________\n",
            "dropout_6 (Dropout)          (None, 1000)              0         \n",
            "_________________________________________________________________\n",
            "dense_10 (Dense)             (None, 500)               500500    \n",
            "_________________________________________________________________\n",
            "dense_11 (Dense)             (None, 500)               250500    \n",
            "_________________________________________________________________\n",
            "dense_12 (Dense)             (None, 6)                 3006      \n",
            "=================================================================\n",
            "Total params: 56,935,006\n",
            "Trainable params: 56,935,006\n",
            "Non-trainable params: 0\n",
            "_________________________________________________________________\n"
          ],
          "name": "stdout"
        }
      ]
    },
    {
      "metadata": {
        "id": "jsPwhTl97D_m",
        "colab_type": "code",
        "outputId": "bc6f1e88-a697-459b-993f-84b75644717b",
        "colab": {
          "base_uri": "https://localhost:8080/",
          "height": 391
        }
      },
      "cell_type": "code",
      "source": [
        "model.fit(x_train,y_train,epochs=10,batch_size=50,validation_data=(x_test,y_test),verbose=True)"
      ],
      "execution_count": 0,
      "outputs": [
        {
          "output_type": "stream",
          "text": [
            "Train on 4605 samples, validate on 1800 samples\n",
            "Epoch 1/10\n",
            "4605/4605 [==============================] - 62s 14ms/step - loss: 8.9362 - acc: 0.2754 - val_loss: 11.0645 - val_acc: 0.1800\n",
            "Epoch 2/10\n",
            "4605/4605 [==============================] - 60s 13ms/step - loss: 2.0745 - acc: 0.5887 - val_loss: 2.5545 - val_acc: 0.4583\n",
            "Epoch 3/10\n",
            "4605/4605 [==============================] - 60s 13ms/step - loss: 0.9260 - acc: 0.7522 - val_loss: 2.4336 - val_acc: 0.4567\n",
            "Epoch 4/10\n",
            "4605/4605 [==============================] - 60s 13ms/step - loss: 0.5693 - acc: 0.8156 - val_loss: 1.8676 - val_acc: 0.5700\n",
            "Epoch 5/10\n",
            "4605/4605 [==============================] - 60s 13ms/step - loss: 0.3774 - acc: 0.8775 - val_loss: 1.9660 - val_acc: 0.5450\n",
            "Epoch 6/10\n",
            "4605/4605 [==============================] - 60s 13ms/step - loss: 0.2906 - acc: 0.9012 - val_loss: 1.7061 - val_acc: 0.6083\n",
            "Epoch 7/10\n",
            "4605/4605 [==============================] - 60s 13ms/step - loss: 0.2126 - acc: 0.9266 - val_loss: 1.9228 - val_acc: 0.5967\n",
            "Epoch 8/10\n",
            "4605/4605 [==============================] - 60s 13ms/step - loss: 0.1877 - acc: 0.9349 - val_loss: 1.8451 - val_acc: 0.6117\n",
            "Epoch 9/10\n",
            "4605/4605 [==============================] - 60s 13ms/step - loss: 0.1389 - acc: 0.9524 - val_loss: 1.6460 - val_acc: 0.6400\n",
            "Epoch 10/10\n",
            "4605/4605 [==============================] - 61s 13ms/step - loss: 0.1218 - acc: 0.9596 - val_loss: 1.6858 - val_acc: 0.6400\n"
          ],
          "name": "stdout"
        },
        {
          "output_type": "execute_result",
          "data": {
            "text/plain": [
              "<keras.callbacks.History at 0x7f846490c5f8>"
            ]
          },
          "metadata": {
            "tags": []
          },
          "execution_count": 41
        }
      ]
    },
    {
      "metadata": {
        "id": "i42n9ZlCLUec",
        "colab_type": "code",
        "outputId": "8ac2b38f-6e38-440d-b527-8c16ed855ea4",
        "colab": {
          "base_uri": "https://localhost:8080/",
          "height": 530
        }
      },
      "cell_type": "code",
      "source": [
        "# MAKE SOME CHANGES IN HYPER-PARA TO FURTHER INCREASE VALIDATION_ACCURACY\n",
        "from keras.callbacks import History\n",
        "hist=History()\n",
        "model=Sequential()\n",
        "model.add(Dense(2000,input_dim=25088,activation='relu',kernel_initializer='uniform'))\n",
        "model.add(Dropout(0.1))\n",
        "model.add(Dense(2000,activation='relu'))\n",
        "model.add(Dropout(0.1))\n",
        "model.add(Dense(1000,activation='relu',activity_regularizer=regularizers.l1(0.00001)))\n",
        "model.add(Dropout(0.1))\n",
        "#activity_regularizer=regularizers.l1(0.01)\n",
        "model.add(Dense(500,activation='relu'))\n",
        "model.add(Dropout(0.1))\n",
        "model.add(Dense(500,activation='relu'))\n",
        "model.add(Dense(output_dim=6,activation='softmax'))\n",
        "\n",
        "\n",
        "from keras.optimizers import SGD\n",
        "sgd= SGD(lr=0.0021)\n",
        "model.compile(optimizer=sgd,loss='categorical_crossentropy',metrics=['accuracy'])\n",
        "model.summary()\n"
      ],
      "execution_count": 0,
      "outputs": [
        {
          "output_type": "stream",
          "text": [
            "_________________________________________________________________\n",
            "Layer (type)                 Output Shape              Param #   \n",
            "=================================================================\n",
            "dense_25 (Dense)             (None, 2000)              50178000  \n",
            "_________________________________________________________________\n",
            "dropout_17 (Dropout)         (None, 2000)              0         \n",
            "_________________________________________________________________\n",
            "dense_26 (Dense)             (None, 2000)              4002000   \n",
            "_________________________________________________________________\n",
            "dropout_18 (Dropout)         (None, 2000)              0         \n",
            "_________________________________________________________________\n",
            "dense_27 (Dense)             (None, 1000)              2001000   \n",
            "_________________________________________________________________\n",
            "dropout_19 (Dropout)         (None, 1000)              0         \n",
            "_________________________________________________________________\n",
            "dense_28 (Dense)             (None, 500)               500500    \n",
            "_________________________________________________________________\n",
            "dropout_20 (Dropout)         (None, 500)               0         \n",
            "_________________________________________________________________\n",
            "dense_29 (Dense)             (None, 500)               250500    \n",
            "_________________________________________________________________\n",
            "dense_30 (Dense)             (None, 6)                 3006      \n",
            "=================================================================\n",
            "Total params: 56,935,006\n",
            "Trainable params: 56,935,006\n",
            "Non-trainable params: 0\n",
            "_________________________________________________________________\n"
          ],
          "name": "stdout"
        },
        {
          "output_type": "stream",
          "text": [
            "/usr/local/lib/python3.6/dist-packages/ipykernel_launcher.py:14: UserWarning: Update your `Dense` call to the Keras 2 API: `Dense(activation=\"softmax\", units=6)`\n",
            "  \n"
          ],
          "name": "stderr"
        }
      ]
    },
    {
      "metadata": {
        "id": "IeaWfWrGzpFl",
        "colab_type": "code",
        "outputId": "c25fe1de-c89e-4b83-95cb-2cfa49f689bb",
        "colab": {
          "base_uri": "https://localhost:8080/",
          "height": 765
        }
      },
      "cell_type": "code",
      "source": [
        "model.fit(x_train,y_train,epochs=21,batch_size=50,validation_data=(x_test,y_test),verbose=True,callbacks=[hist])"
      ],
      "execution_count": 0,
      "outputs": [
        {
          "output_type": "stream",
          "text": [
            "Train on 4605 samples, validate on 1800 samples\n",
            "Epoch 1/21\n",
            "4605/4605 [==============================] - 67s 15ms/step - loss: 8.5073 - acc: 0.3012 - val_loss: 2.9099 - val_acc: 0.3800\n",
            "Epoch 2/21\n",
            "4605/4605 [==============================] - 64s 14ms/step - loss: 1.6828 - acc: 0.5609 - val_loss: 1.4386 - val_acc: 0.5017\n",
            "Epoch 3/21\n",
            "4605/4605 [==============================] - 64s 14ms/step - loss: 1.0922 - acc: 0.7001 - val_loss: 1.6647 - val_acc: 0.5133\n",
            "Epoch 4/21\n",
            "4605/4605 [==============================] - 65s 14ms/step - loss: 0.8637 - acc: 0.7776 - val_loss: 1.2725 - val_acc: 0.5867\n",
            "Epoch 5/21\n",
            "4605/4605 [==============================] - 65s 14ms/step - loss: 0.6940 - acc: 0.8406 - val_loss: 1.2734 - val_acc: 0.5767\n",
            "Epoch 6/21\n",
            "4605/4605 [==============================] - 64s 14ms/step - loss: 0.5559 - acc: 0.8893 - val_loss: 1.1544 - val_acc: 0.6167\n",
            "Epoch 7/21\n",
            "4605/4605 [==============================] - 64s 14ms/step - loss: 0.4792 - acc: 0.9162 - val_loss: 1.1105 - val_acc: 0.6367\n",
            "Epoch 8/21\n",
            "4605/4605 [==============================] - 64s 14ms/step - loss: 0.3996 - acc: 0.9427 - val_loss: 1.0941 - val_acc: 0.6433\n",
            "Epoch 9/21\n",
            "4605/4605 [==============================] - 65s 14ms/step - loss: 0.3623 - acc: 0.9485 - val_loss: 1.4842 - val_acc: 0.5850\n",
            "Epoch 10/21\n",
            "4605/4605 [==============================] - 64s 14ms/step - loss: 0.3387 - acc: 0.9520 - val_loss: 1.1213 - val_acc: 0.6350\n",
            "Epoch 11/21\n",
            "4605/4605 [==============================] - 64s 14ms/step - loss: 0.3048 - acc: 0.9646 - val_loss: 1.1123 - val_acc: 0.6417\n",
            "Epoch 12/21\n",
            "4605/4605 [==============================] - 64s 14ms/step - loss: 0.2707 - acc: 0.9722 - val_loss: 1.0971 - val_acc: 0.6583\n",
            "Epoch 13/21\n",
            "4605/4605 [==============================] - 65s 14ms/step - loss: 0.2563 - acc: 0.9746 - val_loss: 1.1410 - val_acc: 0.6483\n",
            "Epoch 14/21\n",
            "4605/4605 [==============================] - 65s 14ms/step - loss: 0.2442 - acc: 0.9776 - val_loss: 1.0561 - val_acc: 0.6583\n",
            "Epoch 15/21\n",
            "4605/4605 [==============================] - 65s 14ms/step - loss: 0.2186 - acc: 0.9826 - val_loss: 1.0737 - val_acc: 0.6533\n",
            "Epoch 16/21\n",
            "4605/4605 [==============================] - 64s 14ms/step - loss: 0.2033 - acc: 0.9883 - val_loss: 1.0771 - val_acc: 0.6517\n",
            "Epoch 17/21\n",
            "4605/4605 [==============================] - 64s 14ms/step - loss: 0.1991 - acc: 0.9837 - val_loss: 1.1679 - val_acc: 0.6300\n",
            "Epoch 18/21\n",
            "4605/4605 [==============================] - 64s 14ms/step - loss: 0.1897 - acc: 0.9863 - val_loss: 1.0652 - val_acc: 0.6483\n",
            "Epoch 19/21\n",
            "4605/4605 [==============================] - 65s 14ms/step - loss: 0.1822 - acc: 0.9859 - val_loss: 1.0626 - val_acc: 0.6533\n",
            "Epoch 20/21\n",
            "4605/4605 [==============================] - 64s 14ms/step - loss: 0.1742 - acc: 0.9878 - val_loss: 1.1278 - val_acc: 0.6450\n",
            "Epoch 21/21\n",
            "4605/4605 [==============================] - 64s 14ms/step - loss: 0.1628 - acc: 0.9891 - val_loss: 1.0667 - val_acc: 0.6733\n"
          ],
          "name": "stdout"
        },
        {
          "output_type": "execute_result",
          "data": {
            "text/plain": [
              "<keras.callbacks.History at 0x7f7bd2c424a8>"
            ]
          },
          "metadata": {
            "tags": []
          },
          "execution_count": 26
        }
      ]
    },
    {
      "metadata": {
        "id": "cxDasbZ_7ZLF",
        "colab_type": "code",
        "outputId": "74689444-05a7-4e36-9610-219cb960ba84",
        "colab": {
          "base_uri": "https://localhost:8080/",
          "height": 809
        }
      },
      "cell_type": "code",
      "source": [
        "#Training is done and training results are...\n",
        "import matplotlib.pyplot as plt\n",
        "fig = plt.figure()\n",
        "im=plt.plot(hist.history['acc'])\n",
        "plt.title(\"TRAINING ACCURACY DURING 20 EPOCHS\")\n",
        "fig.savefig('loss_accuracy.png')\n",
        "\n",
        "fig = plt.figure()\n",
        "plt.plot(hist.history['val_acc'])\n",
        "plt.title(\"VALIDATION ACCURACY DURING 20 EPOCHS\")\n",
        "fig.savefig('validation_accuracy.png')\n",
        "\n",
        "fig = plt.figure()\n",
        "plt.plot(hist.history['loss'])\n",
        "plt.title(\"TRAINING LOSS VALUES DURING 20 EPOCHS\")\n",
        "fig.savefig('loss_training.png')\n",
        "\n"
      ],
      "execution_count": 0,
      "outputs": [
        {
          "output_type": "display_data",
          "data": {
            "image/png": "[encoded data removed]",
            "text/plain": [
              "<Figure size 432x288 with 1 Axes>"
            ]
          },
          "metadata": {
            "tags": []
          }
        },
        {
          "output_type": "display_data",
          "data": {
            "image/png": "[encoded data removed]",
            "text/plain": [
              "<Figure size 432x288 with 1 Axes>"
            ]
          },
          "metadata": {
            "tags": []
          }
        },
        {
          "output_type": "display_data",
          "data": {
            "image/png": "[encoded data removed]",
            "text/plain": [
              "<Figure size 432x288 with 1 Axes>"
            ]
          },
          "metadata": {
            "tags": []
          }
        }
      ]
    },
    {
      "metadata": {
        "id": "cKGL72mN_eUn",
        "colab_type": "code",
        "colab": {}
      },
      "cell_type": "code",
      "source": [
        "#PREDICTION OF VALIDATION DATA..\n",
        "y_pred=model.predict(x_test)\n"
      ],
      "execution_count": 0,
      "outputs": []
    },
    {
      "metadata": {
        "id": "cLm01fU5ILsZ",
        "colab_type": "code",
        "outputId": "ef805373-38d6-47a8-d545-71d3b1e9bae1",
        "colab": {
          "base_uri": "https://localhost:8080/",
          "height": 204
        }
      },
      "cell_type": "code",
      "source": [
        "y_pred[0:5]\n",
        "#y_test=np.array(y_test)\n"
      ],
      "execution_count": 0,
      "outputs": [
        {
          "output_type": "execute_result",
          "data": {
            "text/html": [
              "<div>\n",
              "<style scoped>\n",
              "    .dataframe tbody tr th:only-of-type {\n",
              "        vertical-align: middle;\n",
              "    }\n",
              "\n",
              "    .dataframe tbody tr th {\n",
              "        vertical-align: top;\n",
              "    }\n",
              "\n",
              "    .dataframe thead th {\n",
              "        text-align: right;\n",
              "    }\n",
              "</style>\n",
              "<table border=\"1\" class=\"dataframe\">\n",
              "  <thead>\n",
              "    <tr style=\"text-align: right;\">\n",
              "      <th></th>\n",
              "      <th>0</th>\n",
              "      <th>1</th>\n",
              "      <th>2</th>\n",
              "      <th>3</th>\n",
              "      <th>4</th>\n",
              "      <th>5</th>\n",
              "    </tr>\n",
              "  </thead>\n",
              "  <tbody>\n",
              "    <tr>\n",
              "      <th>0</th>\n",
              "      <td>0.002198</td>\n",
              "      <td>0.015347</td>\n",
              "      <td>0.134137</td>\n",
              "      <td>0.774691</td>\n",
              "      <td>0.022182</td>\n",
              "      <td>0.051445</td>\n",
              "    </tr>\n",
              "    <tr>\n",
              "      <th>1</th>\n",
              "      <td>0.136251</td>\n",
              "      <td>0.152335</td>\n",
              "      <td>0.649622</td>\n",
              "      <td>0.016120</td>\n",
              "      <td>0.034098</td>\n",
              "      <td>0.011574</td>\n",
              "    </tr>\n",
              "    <tr>\n",
              "      <th>2</th>\n",
              "      <td>0.130180</td>\n",
              "      <td>0.104804</td>\n",
              "      <td>0.167592</td>\n",
              "      <td>0.326431</td>\n",
              "      <td>0.006650</td>\n",
              "      <td>0.264344</td>\n",
              "    </tr>\n",
              "    <tr>\n",
              "      <th>3</th>\n",
              "      <td>0.078866</td>\n",
              "      <td>0.094739</td>\n",
              "      <td>0.253680</td>\n",
              "      <td>0.288677</td>\n",
              "      <td>0.116544</td>\n",
              "      <td>0.167494</td>\n",
              "    </tr>\n",
              "    <tr>\n",
              "      <th>4</th>\n",
              "      <td>0.120904</td>\n",
              "      <td>0.166170</td>\n",
              "      <td>0.445646</td>\n",
              "      <td>0.030334</td>\n",
              "      <td>0.026162</td>\n",
              "      <td>0.210783</td>\n",
              "    </tr>\n",
              "  </tbody>\n",
              "</table>\n",
              "</div>"
            ],
            "text/plain": [
              "          0         1         2         3         4         5\n",
              "0  0.002198  0.015347  0.134137  0.774691  0.022182  0.051445\n",
              "1  0.136251  0.152335  0.649622  0.016120  0.034098  0.011574\n",
              "2  0.130180  0.104804  0.167592  0.326431  0.006650  0.264344\n",
              "3  0.078866  0.094739  0.253680  0.288677  0.116544  0.167494\n",
              "4  0.120904  0.166170  0.445646  0.030334  0.026162  0.210783"
            ]
          },
          "metadata": {
            "tags": []
          },
          "execution_count": 72
        }
      ]
    },
    {
      "metadata": {
        "id": "wPV76_DkMFhx",
        "colab_type": "code",
        "outputId": "e2447f73-3cfb-4e9c-82cc-05f0ee25c565",
        "colab": {
          "base_uri": "https://localhost:8080/",
          "height": 34
        }
      },
      "cell_type": "code",
      "source": [
        "pred_results= pd.DataFrame(columns=['label'])\n",
        "y_pred=pd.DataFrame(y_pred)\n",
        "pred_results=pd.DataFrame()\n",
        "for i in range(y_pred.shape[0]):\n",
        "  max_val=max(y_pred.iloc[i])\n",
        "  for j in range(0,6):\n",
        "    if(y_pred.iloc[i][j]==max_val):\n",
        "      if(j==0):\n",
        "        pred_results = pred_results.append({'label': 'zipper'}, ignore_index=True)\n",
        "      elif(j==1):\n",
        "        pred_results = pred_results.append({'label': 'backstrap'}, ignore_index=True)\n",
        "      elif(j==2):\n",
        "        pred_results = pred_results.append({'label': 'slip_on'}, ignore_index=True)      \n",
        "      elif(j==3):\n",
        "        pred_results = pred_results.append({'label': 'lace_up'}, ignore_index=True)   \n",
        "      elif(j==4):\n",
        "        pred_results = pred_results.append({'label': 'buckle'}, ignore_index=True)   \n",
        "      elif(j==5):\n",
        "        pred_results = pred_results.append({'label': 'hook&look'}, ignore_index=True)  \n",
        "       "
      ],
      "execution_count": 0,
      "outputs": [
        {
          "output_type": "execute_result",
          "data": {
            "text/plain": [
              "array([0, 0, 1, 0, 0, 0], dtype=uint8)"
            ]
          },
          "metadata": {
            "tags": []
          },
          "execution_count": 111
        }
      ]
    },
    {
      "metadata": {
        "id": "jJOhq7q0VPx-",
        "colab_type": "code",
        "outputId": "b670cfea-ba7d-4d23-ce66-9f017cde1a8a",
        "colab": {
          "base_uri": "https://localhost:8080/",
          "height": 136
        }
      },
      "cell_type": "code",
      "source": [
        "pred_results['label'].value_counts()"
      ],
      "execution_count": 0,
      "outputs": [
        {
          "output_type": "execute_result",
          "data": {
            "text/plain": [
              "lace_up      348\n",
              "slip_on      342\n",
              "hook&look    306\n",
              "backstrap    306\n",
              "buckle       255\n",
              "zipper       243\n",
              "Name: label, dtype: int64"
            ]
          },
          "metadata": {
            "tags": []
          },
          "execution_count": 119
        }
      ]
    },
    {
      "metadata": {
        "id": "_E8xKEeqzonz",
        "colab_type": "code",
        "outputId": "1644a059-50c1-4b68-8c0d-9004edb54f73",
        "colab": {
          "base_uri": "https://localhost:8080/",
          "height": 105
        }
      },
      "cell_type": "code",
      "source": [
        "#ACCURACY AND OTHER METRIC SCORES\n",
        "scores=model.evaluate(x_test,y_test)\n",
        "\n",
        "print(\"\\n ACCURACY MEAN SCORE: \",scores[1]*100)\n",
        "\n",
        "#results are pretty decent..\n"
      ],
      "execution_count": 0,
      "outputs": [
        {
          "output_type": "stream",
          "text": [
            "[0.380000002682209, 0.5016666663189729, 0.513333328999579, 0.5866666634877523, 0.5766666680574417, 0.6166666746139526, 0.6366666629910469, 0.6433333332339922, 0.5850000033775965, 0.6350000028808912, 0.6416666656732559, 0.6583333363135656, 0.648333340883255, 0.658333328862985, 0.6533333385984103, 0.6516666660706202, 0.6300000001986822, 0.6483333359162012, 0.6533333410819372, 0.6449999908606211, 0.6733333319425583]\n",
            "1800/1800 [==============================] - 7s 4ms/step\n",
            "\n",
            " ACCURACY MEAN SCORE:  67.33333333333333\n"
          ],
          "name": "stdout"
        }
      ]
    },
    {
      "metadata": {
        "id": "u1eUE4wqB4vK",
        "colab_type": "code",
        "outputId": "4e9635b8-8085-4cd7-ca22-690f6b2cedc0",
        "colab": {
          "base_uri": "https://localhost:8080/",
          "height": 34
        }
      },
      "cell_type": "code",
      "source": [
        "#SAVING MY MODEL....\n",
        "model_json = model.to_json()\n",
        "with open(\"model_final_optimized.json\", \"w\") as json_file:\n",
        "    json_file.write(model_json)\n",
        "# serialize weights to HDF5\n",
        "model.save_weights(\"model_final_optimized.h5\")\n",
        "print(\"Saved model locally\")"
      ],
      "execution_count": 0,
      "outputs": [
        {
          "output_type": "stream",
          "text": [
            "Saved model locally\n"
          ],
          "name": "stdout"
        }
      ]
    },
    {
      "metadata": {
        "id": "6DX2xfjHCPcy",
        "colab_type": "code",
        "colab": {}
      },
      "cell_type": "code",
      "source": [
        "#USE THIS TO MAKE PREDICTIONS ON ANY CSV\n",
        "import numpy as np\n",
        "import pandas as pd\n",
        "print(\"\\n Enter the CSV file path from current directory, along with extension .csv\")\n",
        "pred_path=input()\n",
        "testing_data=pd.read_csv(pred_path)\n",
        "pred_values=prediction(testing_data)\n",
        "\n",
        "pred_results= pd.DataFrame(columns=['label'])\n",
        "for i in range(pred_values.shape[0]):\n",
        "  max_val=max(pred_values.iloc[i])\n",
        "  for j in range(0,6):\n",
        "    if(pred_values.iloc[i][j]==max_val):\n",
        "      if(j==0):\n",
        "        pred_results = pred_results.append({'label': 'zipper'}, ignore_index=True)\n",
        "      elif(j==1):\n",
        "        pred_results = pred_results.append({'label': 'backstrap'}, ignore_index=True)\n",
        "      elif(j==2):\n",
        "        pred_results = pred_results.append({'label': 'slip_on'}, ignore_index=True)      \n",
        "      elif(j==3):\n",
        "        pred_results = pred_results.append({'label': 'lace_up'}, ignore_index=True)   \n",
        "      elif(j==4):\n",
        "        pred_results = pred_results.append({'label': 'buckle'}, ignore_index=True)   \n",
        "      elif(j==5):\n",
        "        pred_results = pred_results.append({'label': 'hook&look'}, ignore_index=True)\n",
        "        \n",
        "pred_results.to_csv('Predicted_results.csv',index=False)\n",
        "print(\"Check your current local directory for the Resultant CSV file\")\n",
        "\n",
        "\n",
        "def prediction(inp):\n",
        "  test=inp\n",
        "  test=str(test)\n",
        "  for i in range(0,test.shape[0]):\n",
        "    \n",
        "    ur=list(test.iloc[i])\n",
        "    ur=ur[1:-1]\n",
        "    count=0\n",
        "    for j in ur:\n",
        "        count+=1\n",
        "        img_name=j.split(\"/\",6)[-1]+\"_\"+j.split(\"/\",6)[-2]\n",
        "        fin=\"Prediction_images/\"+\"/image-\"+str(count)\n",
        "        img=urlr.urlretrieve(j,fin)\n",
        "    \n",
        "    test_x=[]            \n",
        "    test_path=\"Prediction_images\"\n",
        "    for j in range(test.shape[0]):\n",
        "      ti=image.load_img(test_path+\"image-\"+str(j)+\".jpg\",target_size=(224,224))\n",
        "      ti=image.img_to_array(ti)\n",
        "      test_x.append(ti)\n",
        "    \n",
        "    pred_data=np.array(test_x)\n",
        "    pred_data=preprocess_input(pred_data)\n",
        "    \n",
        "    from keras.applications import VGG16             \n",
        "    ml= VGG16(weights='imagenet', include_top=False)\n",
        "           \n",
        "    pred_data=ml.predict(pred_data)\n",
        "    pred_data=pred_data.reshape(pred_data.shape[0],pred_data.shape[1]*pred_data.shape[2]*pred_data.shape[3])\n",
        "    # load json and create model\n",
        "    json_file = open('model_final_optimized.json', 'r')\n",
        "    loaded_model_json = json_file.read()\n",
        "    json_file.close()\n",
        "    loaded_model = model_from_json(loaded_model_json)\n",
        "    # load weights into new model\n",
        "    loaded_model.load_weights(\"model_final_optimized.h5\")\n",
        "    print(\"Loaded model from disk\")\n",
        "    model=loaded_model\n",
        "    pred_val=model.predict(pred_data)\n",
        "    pred_value=pd.DataFrame(pred_val)             \n",
        "    return pred_value             \n",
        "  \n",
        "  "
      ],
      "execution_count": 0,
      "outputs": []
    }
  ]
}